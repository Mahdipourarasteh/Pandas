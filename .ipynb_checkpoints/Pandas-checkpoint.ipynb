{
 "cells": [
  {
   "cell_type": "markdown",
   "id": "e36cf300",
   "metadata": {},
   "source": [
    "# Intro Pandas"
   ]
  },
  {
   "cell_type": "markdown",
   "id": "ef0dad56",
   "metadata": {},
   "source": [
    "## **Before starting this library, you must have learned basic Python and Nampy library."
   ]
  },
  {
   "cell_type": "markdown",
   "id": "0e91e8ac",
   "metadata": {},
   "source": [
    "### pd.series (data , index, copy)"
   ]
  },
  {
   "cell_type": "code",
   "execution_count": 1,
   "id": "2e39942f",
   "metadata": {},
   "outputs": [
    {
     "name": "stdout",
     "output_type": "stream",
     "text": [
      "10    t\n",
      "20    o\n",
      "30    p\n",
      "40    l\n",
      "50    e\n",
      "60    a\n",
      "70    r\n",
      "80    n\n",
      "dtype: object\n",
      "['t' 'o' 'p' 'l' 'e' 'a' 'r' 'n']\n",
      "Int64Index([10, 20, 30, 40, 50, 60, 70, 80], dtype='int64')\n",
      "40    l\n",
      "50    e\n",
      "60    a\n",
      "dtype: object\n"
     ]
    }
   ],
   "source": [
    "import numpy as np\n",
    "import pandas as pd\n",
    "\n",
    "data= np.array(['t','o','p','l','e','a','r','n'])\n",
    "myseries= pd.Series(data, index=[10,20,30,40,50,60,70,80])\n",
    "print(myseries)\n",
    "print(myseries.values)\n",
    "print(myseries.index)\n",
    "print(myseries[3:6])"
   ]
  },
  {
   "cell_type": "code",
   "execution_count": 2,
   "id": "052d0826",
   "metadata": {},
   "outputs": [
    {
     "name": "stdout",
     "output_type": "stream",
     "text": [
      "second     majid\n",
      "first        ali\n",
      "fifth        NaN\n",
      "third     hosein\n",
      "dtype: object\n"
     ]
    }
   ],
   "source": [
    "data= {'first':'ali',\n",
    "       'second':'majid',\n",
    "       'third':'hosein'}\n",
    "ser= pd.Series(data)\n",
    "ser= pd.Series(data,index=['second','first','fifth','third'])\n",
    "print(ser)"
   ]
  },
  {
   "cell_type": "markdown",
   "id": "d5c263fa",
   "metadata": {},
   "source": [
    "### _.add() , _.sub() , _.mul() , _div() , _.pow() , _.round(decimal= ) "
   ]
  },
  {
   "cell_type": "code",
   "execution_count": 3,
   "id": "139b3347",
   "metadata": {},
   "outputs": [
    {
     "name": "stdout",
     "output_type": "stream",
     "text": [
      "a    45\n",
      "b    48\n",
      "c    93\n",
      "d    58\n",
      "e    80\n",
      "dtype: int64\n",
      "a   -13\n",
      "b   -42\n",
      "c    81\n",
      "d   -30\n",
      "e   -76\n",
      "dtype: int64\n",
      "a    464\n",
      "b    135\n",
      "c    522\n",
      "d    616\n",
      "e    156\n",
      "dtype: int64\n",
      "a     0.55\n",
      "b     0.07\n",
      "c    14.50\n",
      "d     0.32\n",
      "e     0.03\n",
      "dtype: float64\n",
      "a                      0\n",
      "b    2833654757305440083\n",
      "c           433626201009\n",
      "d    2175819162159415296\n",
      "e                      0\n",
      "dtype: int64\n"
     ]
    }
   ],
   "source": [
    "import pandas as pd\n",
    "\n",
    "data1= pd.Series([16,3,87,14,2],index=['a','b','c','d','e'])\n",
    "data2= pd.Series([29,45,6,44,78],index=['a','b','c','d','e'])\n",
    "print(data1.add(data2))\n",
    "print(data1.sub(data2))\n",
    "print(data1.mul(data2))\n",
    "print(data1.div(data2).round(decimals=2))\n",
    "print(data1.pow(data2))"
   ]
  },
  {
   "cell_type": "markdown",
   "id": "3e024fea",
   "metadata": {},
   "source": [
    "### series.loc[lable] , series.iloc[index]"
   ]
  },
  {
   "cell_type": "code",
   "execution_count": 4,
   "id": "32a77678",
   "metadata": {},
   "outputs": [
    {
     "name": "stdout",
     "output_type": "stream",
     "text": [
      "5     t\n",
      "10    o\n",
      "15    p\n",
      "20    l\n",
      "25    e\n",
      "30    a\n",
      "35    r\n",
      "40    n\n",
      "dtype: object\n",
      "20    l\n",
      "25    e\n",
      "30    a\n",
      "dtype: object\n",
      "20    l\n",
      "25    e\n",
      "30    a\n",
      "35    r\n",
      "dtype: object\n"
     ]
    }
   ],
   "source": [
    "import numpy as np\n",
    "import pandas as pd\n",
    "\n",
    "data= np.array(['t','o','p','l','e','a','r','n'])\n",
    "myseries= pd.Series(data,index=[5,10,15,20,25,30,35,40])\n",
    "\n",
    "print(myseries)\n",
    "print(myseries.iloc[3:6])  #Purely integer-location based indexing for selection by position.\n",
    "print(myseries.loc[20:35]) #Access a group of rows and columns by label(s) or a boolean array.  ##with lable 35"
   ]
  },
  {
   "cell_type": "markdown",
   "id": "abb019f5",
   "metadata": {},
   "source": [
    "### pd.DataFrame(data , index , dtype , columns)"
   ]
  },
  {
   "cell_type": "code",
   "execution_count": 5,
   "id": "eabe55d9",
   "metadata": {},
   "outputs": [
    {
     "name": "stdout",
     "output_type": "stream",
     "text": [
      "          text\n",
      "first       tp\n",
      "second  pandas\n",
      "third      ttl\n"
     ]
    }
   ],
   "source": [
    "import pandas as pd\n",
    "\n",
    "mylist= ['tp','pandas','ttl']\n",
    "df= pd. DataFrame(mylist, index=['first','second','third'],columns=['text'])\n",
    "print(df)"
   ]
  },
  {
   "cell_type": "code",
   "execution_count": 6,
   "id": "66f587b9",
   "metadata": {},
   "outputs": [
    {
     "name": "stdout",
     "output_type": "stream",
     "text": [
      "df-----------------------------------------------\n",
      "           name  age     city  email\n",
      "person1     Ali   25   Tehran  test1\n",
      "person2    Reza   36  Isfahan  test2\n",
      "person3  Hosein   18   Shiraz  test3\n",
      "df[['name','city']]-----------------------------------------------\n",
      "           name     city\n",
      "person1     Ali   Tehran\n",
      "person2    Reza  Isfahan\n",
      "person3  Hosein   Shiraz\n",
      "df.loc['person2']-------------------------------------------------\n",
      "name        Reza\n",
      "age           36\n",
      "city     Isfahan\n",
      "email      test2\n",
      "Name: person2, dtype: object\n",
      "df.loc[['person2']]-------------------------------------------------\n",
      "         name  age     city  email\n",
      "person2  Reza   36  Isfahan  test2\n",
      "df.iloc[[1]]-------------------------------------------------\n",
      "         name  age     city  email\n",
      "person2  Reza   36  Isfahan  test2\n",
      "df.loc[['person2','person3']]-------------------------------------------------\n",
      "           name  age     city  email\n",
      "person2    Reza   36  Isfahan  test2\n",
      "person3  Hosein   18   Shiraz  test3\n",
      "df.loc['person1':'person2']-------------------------------------------------\n",
      "         name  age     city  email\n",
      "person1   Ali   25   Tehran  test1\n",
      "person2  Reza   36  Isfahan  test2\n",
      "df.iloc[1:2]-------------------------------------------------\n",
      "         name  age     city  email\n",
      "person2  Reza   36  Isfahan  test2\n",
      "df.iloc[0:2,1:2]-------------------------------------------------\n",
      "         age\n",
      "person1   25\n",
      "person2   36\n",
      "df.loc['person1':'person2','age':'email']-------------------------------------------------\n",
      "         age     city  email\n",
      "person1   25   Tehran  test1\n",
      "person2   36  Isfahan  test2\n"
     ]
    }
   ],
   "source": [
    "data= {'name':['Ali','Reza','Hosein'],\n",
    "       'age':[25,36,18],\n",
    "       'city':['Tehran','Isfahan','Shiraz'],\n",
    "       'email':['test1','test2','test3']}\n",
    "df= pd.DataFrame(data, index=['person1','person2','person3'])\n",
    "print(\"df-----------------------------------------------\")\n",
    "print(df)\n",
    "print(\"df[['name','city']]-----------------------------------------------\")\n",
    "print(df[['name','city']])\n",
    "print(\"df.loc['person2']-------------------------------------------------\")\n",
    "print(df.loc['person2'])\n",
    "print(\"df.loc[['person2']]-------------------------------------------------\")\n",
    "print(df.loc[['person2']])\n",
    "print(\"df.iloc[[1]]-------------------------------------------------\")\n",
    "print(df.iloc[[1]])\n",
    "print(\"df.loc[['person2','person3']]-------------------------------------------------\")\n",
    "print(df.loc[['person2','person3']])\n",
    "print(\"df.loc['person1':'person2']-------------------------------------------------\")\n",
    "print(df.loc['person1':'person2'])\n",
    "print(\"df.iloc[1:2]-------------------------------------------------\")\n",
    "print(df.iloc[1:2])\n",
    "print(\"df.iloc[0:2,1:2]-------------------------------------------------\")\n",
    "print(df.iloc[0:2,1:2])\n",
    "print(\"df.loc['person1':'person2','age':'email']-------------------------------------------------\")\n",
    "print(df.loc['person1':'person2','age':'email'])"
   ]
  },
  {
   "cell_type": "code",
   "execution_count": 7,
   "id": "23e691f1",
   "metadata": {},
   "outputs": [
    {
     "name": "stdout",
     "output_type": "stream",
     "text": [
      "df-------------------------------------------------\n",
      "    name  age    city    teaching\n",
      "0    ali   18  tehran      pandas\n",
      "1  hamid   40  shiraz       numpy\n",
      "2    NaN   23  tehran       scipy\n",
      "3   reza   25     NaN  matplotlib\n",
      "df.loc[True]-------------------------------------------------\n",
      "     name  age    city teaching\n",
      "True  ali   18  tehran   pandas\n",
      "True  NaN   23  tehran    scipy\n",
      "df['age']==40-------------------------------------------------\n",
      "True     False\n",
      "False     True\n",
      "True     False\n",
      "False    False\n",
      "Name: age, dtype: bool\n",
      "df['city']=='tehran'-------------------------------------------------\n",
      "True      True\n",
      "False    False\n",
      "True      True\n",
      "False    False\n",
      "Name: city, dtype: bool\n",
      "df[df['age']>=25]-------------------------------------------------\n",
      "        name  age    city    teaching\n",
      "False  hamid   40  shiraz       numpy\n",
      "False   reza   25     NaN  matplotlib\n"
     ]
    }
   ],
   "source": [
    "import pandas as pd\n",
    "import numpy as np\n",
    "\n",
    "data= {'name':['ali','hamid',np.nan,'reza'],\n",
    "       'age':[18,40,23,25],\n",
    "       'city':['tehran','shiraz','tehran',np.nan],\n",
    "       'teaching':['pandas','numpy','scipy','matplotlib']}\n",
    "df= pd.DataFrame(data)\n",
    "print(\"df-------------------------------------------------\")\n",
    "print(df)\n",
    "df= pd.DataFrame(data,index=[True,False,True,False])\n",
    "print(\"df.loc[True]-------------------------------------------------\")\n",
    "print(df.loc[True])\n",
    "print(\"df['age']==40-------------------------------------------------\")\n",
    "print(df['age']==40)\n",
    "print(\"df['city']=='tehran'-------------------------------------------------\")\n",
    "print(df['city']=='tehran')\n",
    "print(\"df[df['age']>=25]-------------------------------------------------\")\n",
    "print(df[df['age']>=25])"
   ]
  },
  {
   "cell_type": "markdown",
   "id": "14a61808",
   "metadata": {},
   "source": [
    "### df.isnull() , df.notnull() , df.fillna() , df.dropna(axis)"
   ]
  },
  {
   "cell_type": "code",
   "execution_count": 8,
   "id": "c1e9b08e",
   "metadata": {},
   "outputs": [
    {
     "name": "stdout",
     "output_type": "stream",
     "text": [
      "df-------------------------------------------------\n",
      "    name  age    city    teaching\n",
      "0    ali   18  tehran      pandas\n",
      "1  hamid   40  shiraz       numpy\n",
      "2    NaN   23  tehran         NaN\n",
      "3   reza   25     NaN  matplotlib\n",
      "df.isnull()-------------------------------------------------\n",
      "    name    age   city  teaching\n",
      "0  False  False  False     False\n",
      "1  False  False  False     False\n",
      "2   True  False  False      True\n",
      "3  False  False   True     False\n",
      "df.notnull()-------------------------------------------------\n",
      "    name   age   city  teaching\n",
      "0   True  True   True      True\n",
      "1   True  True   True      True\n",
      "2  False  True   True     False\n",
      "3   True  True  False      True\n",
      "df.fillna('-')-------------------------------------------------\n",
      "    name  age    city    teaching\n",
      "0    ali   18  tehran      pandas\n",
      "1  hamid   40  shiraz       numpy\n",
      "2      -   23  tehran           -\n",
      "3   reza   25       -  matplotlib\n",
      "df.dropna()-------------------------------------------------\n",
      "    name  age    city teaching\n",
      "0    ali   18  tehran   pandas\n",
      "1  hamid   40  shiraz    numpy\n",
      "df.dropna(axis=1)-------------------------------------------------\n",
      "   age\n",
      "0   18\n",
      "1   40\n",
      "2   23\n",
      "3   25\n",
      "df.dropna(axis=0)-------------------------------------------------\n",
      "    name  age    city teaching\n",
      "0    ali   18  tehran   pandas\n",
      "1  hamid   40  shiraz    numpy\n"
     ]
    }
   ],
   "source": [
    "import pandas as pd\n",
    "import numpy as np\n",
    "\n",
    "data= {'name':['ali','hamid',np.nan,'reza'],\n",
    "       'age':[18,40,23,25],\n",
    "       'city':['tehran','shiraz','tehran',np.nan],\n",
    "       'teaching':['pandas','numpy',np.nan,'matplotlib']}\n",
    "df= pd.DataFrame(data)\n",
    "print(\"df-------------------------------------------------\")\n",
    "print(df)\n",
    "print(\"df.isnull()-------------------------------------------------\")\n",
    "print(df.isnull())\n",
    "print(\"df.notnull()-------------------------------------------------\")\n",
    "print(df.notnull())\n",
    "print(\"df.fillna('-')-------------------------------------------------\")\n",
    "print(df.fillna('-'))\n",
    "print(\"df.dropna()-------------------------------------------------\")\n",
    "print(df.dropna())\n",
    "print(\"df.dropna(axis=1)-------------------------------------------------\")\n",
    "print(df.dropna(axis=1))   #axis=1 vertical /  axis=0  Horizantal\n",
    "print(\"df.dropna(axis=0)-------------------------------------------------\")\n",
    "print(df.dropna(axis=0))   #axis=0  Horizantal = dropna()"
   ]
  },
  {
   "cell_type": "markdown",
   "id": "93a3efa0",
   "metadata": {},
   "source": [
    "## pd.interpolate(methode=   , limit=   )"
   ]
  },
  {
   "cell_type": "code",
   "execution_count": 47,
   "id": "09aba983",
   "metadata": {},
   "outputs": [
    {
     "name": "stdout",
     "output_type": "stream",
     "text": [
      "0              NaN\n",
      "1       single_one\n",
      "2              NaN\n",
      "3    fill_two_more\n",
      "4              NaN\n",
      "5              NaN\n",
      "6              NaN\n",
      "7             4.71\n",
      "8              NaN\n",
      "dtype: object\n",
      "0              NaN\n",
      "1       single_one\n",
      "2       single_one\n",
      "3    fill_two_more\n",
      "4    fill_two_more\n",
      "5              NaN\n",
      "6              NaN\n",
      "7             4.71\n",
      "8             4.71\n",
      "dtype: object\n",
      "-------------------------------------------------------\n",
      "0    0.0\n",
      "1    2.0\n",
      "2    NaN\n",
      "3    8.0\n",
      "dtype: float64\n",
      "0    0.0\n",
      "1    2.0\n",
      "2    5.0\n",
      "3    8.0\n",
      "dtype: float64\n",
      "0    0.000000\n",
      "1    2.000000\n",
      "2    4.666667\n",
      "3    8.000000\n",
      "dtype: float64\n"
     ]
    }
   ],
   "source": [
    "s = pd.Series([np.nan, \"single_one\", np.nan,\"fill_two_more\", np.nan, np.nan, np.nan,4.71, np.nan])\n",
    "print(s)\n",
    "print(s.interpolate(method='pad', limit=1))\n",
    "print('------------------------------------------------------')\n",
    "b = pd.Series([0, 2, np.nan, 8])\n",
    "print(b)\n",
    "print(b.interpolate())    #linear interpolation\n",
    "print(b.interpolate(method='polynomial', order=2))"
   ]
  },
  {
   "cell_type": "markdown",
   "id": "1aab4694",
   "metadata": {},
   "source": [
    "##  pd.read_csv('csv-filename.csv') , df.head() , df.tail()"
   ]
  },
  {
   "cell_type": "code",
   "execution_count": 9,
   "id": "75704f3e",
   "metadata": {},
   "outputs": [
    {
     "name": "stdout",
     "output_type": "stream",
     "text": [
      "df-------------------------------------------------\n",
      "    Username   Identifier First name Last name\n",
      "0   booker12         9012     Rachel    Booker\n",
      "1     grey07         2070      Laura      Grey\n",
      "2  johnson81         4081      Craig   Johnson\n",
      "3  jenkins46         9346       Mary   Jenkins\n",
      "4    smith79         5079      Jamie     Smith\n",
      "df.head(2)-------------------------------------------------\n",
      "   Username   Identifier First name Last name\n",
      "0  booker12         9012     Rachel    Booker\n",
      "1    grey07         2070      Laura      Grey\n",
      "df.tail(2)-------------------------------------------------\n",
      "    Username   Identifier First name Last name\n",
      "3  jenkins46         9346       Mary   Jenkins\n",
      "4    smith79         5079      Jamie     Smith\n"
     ]
    }
   ],
   "source": [
    "import pandas as pd\n",
    "\n",
    "df= pd.read_csv('username.csv')   #   read_excel   ,  read_html\n",
    "#   excellFileParse()\n",
    "#   to_csv()\n",
    "\n",
    "print(\"df-------------------------------------------------\")\n",
    "print(df)\n",
    "print(\"df.head(2)-------------------------------------------------\")\n",
    "print(df.head(2))\n",
    "print(\"df.tail(2)-------------------------------------------------\")\n",
    "print(df.tail(2))"
   ]
  },
  {
   "cell_type": "markdown",
   "id": "434a45e2",
   "metadata": {},
   "source": [
    "### df.shape , df.count()"
   ]
  },
  {
   "cell_type": "code",
   "execution_count": 10,
   "id": "60f43322",
   "metadata": {},
   "outputs": [
    {
     "name": "stdout",
     "output_type": "stream",
     "text": [
      "df-------------------------------------------------\n",
      "    Username   Identifier First name Last name\n",
      "0   booker12         9012     Rachel    Booker\n",
      "1     grey07         2070      Laura      Grey\n",
      "2  johnson81         4081      Craig   Johnson\n",
      "3  jenkins46         9346       Mary   Jenkins\n",
      "4    smith79         5079      Jamie     Smith\n",
      "df.shape-------------------------------------------------\n",
      "(5, 4)\n",
      "df.count()-------------------------------------------------\n",
      "Username       5\n",
      " Identifier    5\n",
      "First name     5\n",
      "Last name      5\n",
      "dtype: int64\n"
     ]
    }
   ],
   "source": [
    "import pandas as pd\n",
    "\n",
    "df= pd.read_csv('username.csv')\n",
    "print(\"df-------------------------------------------------\")\n",
    "print(df)\n",
    "print(\"df.shape-------------------------------------------------\")\n",
    "print(df.shape)\n",
    "print(\"df.count()-------------------------------------------------\")\n",
    "print(df.count())"
   ]
  },
  {
   "cell_type": "markdown",
   "id": "5a8c1b94",
   "metadata": {},
   "source": [
    "### df.values()"
   ]
  },
  {
   "cell_type": "code",
   "execution_count": 11,
   "id": "f1d03873",
   "metadata": {},
   "outputs": [
    {
     "name": "stdout",
     "output_type": "stream",
     "text": [
      "df-------------------------------------------------\n",
      "    Username   Identifier First name Last name\n",
      "0   booker12         9012     Rachel    Booker\n",
      "1     grey07         2070      Laura      Grey\n",
      "2  johnson81         4081      Craig   Johnson\n",
      "3  jenkins46         9346       Mary   Jenkins\n",
      "4    smith79         5079      Jamie     Smith\n",
      "df.values-------------------------------------------------\n",
      "[['booker12' 9012 'Rachel' 'Booker']\n",
      " ['grey07' 2070 'Laura' 'Grey']\n",
      " ['johnson81' 4081 'Craig' 'Johnson']\n",
      " ['jenkins46' 9346 'Mary' 'Jenkins']\n",
      " ['smith79' 5079 'Jamie' 'Smith']]\n",
      "type(df.values)-------------------------------------------------\n",
      "<class 'numpy.ndarray'>\n"
     ]
    }
   ],
   "source": [
    "import pandas as pd\n",
    "\n",
    "df= pd.read_csv('username.csv')\n",
    "print(\"df-------------------------------------------------\")\n",
    "print(df)\n",
    "print(\"df.values-------------------------------------------------\")\n",
    "print(df.values)\n",
    "print(\"type(df.values)-------------------------------------------------\")\n",
    "print(type(df.values))"
   ]
  },
  {
   "cell_type": "markdown",
   "id": "878cd423",
   "metadata": {},
   "source": [
    "### df.describe()"
   ]
  },
  {
   "cell_type": "code",
   "execution_count": 12,
   "id": "2e25aef4",
   "metadata": {},
   "outputs": [
    {
     "name": "stdout",
     "output_type": "stream",
     "text": [
      "df-------------------------------------------------\n",
      "    Username   Identifier First name Last name\n",
      "0   booker12         9012     Rachel    Booker\n",
      "1     grey07         2070      Laura      Grey\n",
      "2  johnson81         4081      Craig   Johnson\n",
      "3  jenkins46         9346       Mary   Jenkins\n",
      "4    smith79         5079      Jamie     Smith\n",
      "df.describe()-------------------------------------------------\n",
      "        Identifier\n",
      "count     5.000000\n",
      "mean   5917.600000\n",
      "std    3170.552523\n",
      "min    2070.000000\n",
      "25%    4081.000000\n",
      "50%    5079.000000\n",
      "75%    9012.000000\n",
      "max    9346.000000\n"
     ]
    }
   ],
   "source": [
    "import pandas as pd\n",
    "\n",
    "df= pd.read_csv('username.csv')\n",
    "print(\"df-------------------------------------------------\")\n",
    "print(df)\n",
    "print(\"df.describe()-------------------------------------------------\")\n",
    "print(df.describe())"
   ]
  },
  {
   "cell_type": "markdown",
   "id": "1aacb396",
   "metadata": {},
   "source": [
    "### df.set_index()"
   ]
  },
  {
   "cell_type": "code",
   "execution_count": 13,
   "id": "72330e26",
   "metadata": {},
   "outputs": [
    {
     "name": "stdout",
     "output_type": "stream",
     "text": [
      "df-------------------------------------------------\n",
      "    Username   Identifier First name Last name\n",
      "0   booker12         9012     Rachel    Booker\n",
      "1     grey07         2070      Laura      Grey\n",
      "2  johnson81         4081      Craig   Johnson\n",
      "3  jenkins46         9346       Mary   Jenkins\n",
      "4    smith79         5079      Jamie     Smith\n",
      "df.sort_values(...)-------------------------------------------------\n",
      "    Username   Identifier First name Last name\n",
      "2  johnson81         4081      Craig   Johnson\n",
      "4    smith79         5079      Jamie     Smith\n",
      "1     grey07         2070      Laura      Grey\n",
      "3  jenkins46         9346       Mary   Jenkins\n",
      "0   booker12         9012     Rachel    Booker\n"
     ]
    }
   ],
   "source": [
    "import pandas as pd\n",
    "\n",
    "df= pd.read_csv('username.csv')\n",
    "print(\"df-------------------------------------------------\")\n",
    "print(df)\n",
    "print(\"df.sort_values(...)-------------------------------------------------\")\n",
    "print(df.sort_values('First name',axis=0,inplace=False,ascending=True,na_position='last'))"
   ]
  },
  {
   "cell_type": "code",
   "execution_count": 14,
   "id": "c9034257",
   "metadata": {},
   "outputs": [
    {
     "name": "stdout",
     "output_type": "stream",
     "text": [
      "        Direction  Year        Date    Weekday Country Commodity  \\\n",
      "0         Exports  2015  01/01/2015   Thursday     All       All   \n",
      "1         Exports  2015  02/01/2015     Friday     All       All   \n",
      "2         Exports  2015  03/01/2015   Saturday     All       All   \n",
      "3         Exports  2015  04/01/2015     Sunday     All       All   \n",
      "4         Exports  2015  05/01/2015     Monday     All       All   \n",
      "...           ...   ...         ...        ...     ...       ...   \n",
      "111433  Reimports  2021  11/12/2021   Saturday     All       All   \n",
      "111434  Reimports  2021  12/12/2021     Sunday     All       All   \n",
      "111435  Reimports  2021  13/12/2021     Monday     All       All   \n",
      "111436  Reimports  2021  14/12/2021    Tuesday     All       All   \n",
      "111437  Reimports  2021  15/12/2021  Wednesday     All       All   \n",
      "\n",
      "       Transport_Mode Measure      Value  Cumulative  \n",
      "0                 All       $  104000000   104000000  \n",
      "1                 All       $   96000000   200000000  \n",
      "2                 All       $   61000000   262000000  \n",
      "3                 All       $   74000000   336000000  \n",
      "4                 All       $  105000000   442000000  \n",
      "...               ...     ...        ...         ...  \n",
      "111433            All       $          0   165000000  \n",
      "111434            All       $          0   165000000  \n",
      "111435            All       $    2000000   166000000  \n",
      "111436            All       $    1000000   167000000  \n",
      "111437            All       $    1000000   168000000  \n",
      "\n",
      "[111438 rows x 10 columns]\n",
      "---------------------------------------------------------------------\n",
      "                Year         Value    Cumulative\n",
      "count  111438.000000  1.114380e+05  1.114380e+05\n",
      "mean     2017.982430  2.905750e+07  5.174254e+09\n",
      "std         1.992352  5.267248e+07  9.765606e+09\n",
      "min      2015.000000  0.000000e+00  0.000000e+00\n",
      "25%      2016.000000  1.000000e+06  1.140000e+08\n",
      "50%      2018.000000  8.000000e+06  1.420000e+09\n",
      "75%      2020.000000  2.800000e+07  4.797000e+09\n",
      "max      2021.000000  5.490000e+08  6.718000e+10\n"
     ]
    },
    {
     "data": {
      "image/png": "[encoded data removed]",
      "text/plain": [
       "<Figure size 432x288 with 1 Axes>"
      ]
     },
     "metadata": {
      "needs_background": "light"
     },
     "output_type": "display_data"
    }
   ],
   "source": [
    "import pandas as pd\n",
    "import matplotlib.pyplot as plt\n",
    "\n",
    "df= pd.read_csv('effects-of-covid-19-on-trade-at-15-december-2021-provisional.csv')\n",
    "print(df)\n",
    "print(\"---------------------------------------------------------------------\")\n",
    "print(df.describe())\n",
    "df.dropna(axis=0)\n",
    "\n",
    "df['Value'].plot(title='title',xlabel='Index', ylabel='Value')\n",
    "plt.show()"
   ]
  },
  {
   "cell_type": "markdown",
   "id": "b67c33e1",
   "metadata": {},
   "source": [
    "## preprocessing "
   ]
  },
  {
   "cell_type": "markdown",
   "id": "73e819b4",
   "metadata": {},
   "source": [
    "### df.join() "
   ]
  },
  {
   "cell_type": "code",
   "execution_count": 15,
   "id": "36f8538d",
   "metadata": {},
   "outputs": [
    {
     "name": "stdout",
     "output_type": "stream",
     "text": [
      "df1-------------------------------------------------------------------------\n",
      "    name  grade qualification\n",
      "0    ali     80          high\n",
      "1  hamid     75           mid\n",
      "2  sadeq     63           low\n",
      "3  hamed     45           low\n",
      "df2-------------------------------------------------------------------------\n",
      "    name  grade qualification\n",
      "0    ali     56           low\n",
      "1  hamid     82          high\n",
      "2  sadeq     73           mid\n",
      "3  hamed     89           low\n",
      "df3-------------------------------------------------------------------------\n",
      "    name  grade qualification\n",
      "0    ali     49         test1\n",
      "1  hamid     72         test2\n",
      "2  sadeq     84         test3\n",
      "df1.join(df3, lsuffix='_left')----------------------------------------------------------------\n",
      "       grade_left qualification_left  grade qualification\n",
      "name                                                     \n",
      "ali            80               high   49.0         test1\n",
      "hamid          75                mid   72.0         test2\n",
      "sadeq          63                low   84.0         test3\n",
      "hamed          45                low    NaN           NaN\n"
     ]
    }
   ],
   "source": [
    "import pandas as pd\n",
    "\n",
    "df1= pd.DataFrame({'name':['ali','hamid','sadeq','hamed'],\n",
    "                   'grade':[80,75,63,45],\n",
    "                   'qualification':['high','mid','low','low']})\n",
    "\n",
    "df2= pd.DataFrame({'name':['ali','hamid','sadeq','hamed'],\n",
    "                   'grade':[56,82,73,89],\n",
    "                   'qualification':['low','high','mid','low']})\n",
    "\n",
    "df3= pd.DataFrame({'name':['ali','hamid','sadeq'],\n",
    "                   'grade':[49,72,84],\n",
    "                   'qualification':['test1','test2','test3']})\n",
    "print(\"df1-------------------------------------------------------------------------\")\n",
    "print(df1)\n",
    "print(\"df2-------------------------------------------------------------------------\")\n",
    "print(df2)\n",
    "print(\"df3-------------------------------------------------------------------------\")\n",
    "print(df3)\n",
    "\n",
    "df1.set_index('name',inplace=True)\n",
    "df3.set_index('name',inplace=True)\n",
    "myjoin= df1.join(df3, lsuffix='_left')\n",
    "print(\"df1.join(df3, lsuffix='_left')----------------------------------------------------------------\") \n",
    "print(myjoin)"
   ]
  },
  {
   "cell_type": "markdown",
   "id": "8b643888",
   "metadata": {},
   "source": [
    "### pd.merge(left DataFrame , right DataFrame , how , on , left_on , right_on , left_index , right_index , sort , suffixes , copy , indicator , validate)\n",
    "how : {'left', 'right', 'outer', 'inner', 'cross'}, default 'inner'"
   ]
  },
  {
   "cell_type": "code",
   "execution_count": 16,
   "id": "5ad5298e",
   "metadata": {},
   "outputs": [
    {
     "name": "stdout",
     "output_type": "stream",
     "text": [
      "df1-------------------------------------------------------------------------\n",
      "    name  grade qualification\n",
      "0    ali     80          high\n",
      "1  hamid     75           mid\n",
      "2  sadeq     63           low\n",
      "3  hamed     45           low\n",
      "df2-------------------------------------------------------------------------\n",
      "    name  grade qualification\n",
      "0    ali     56           low\n",
      "1  hamid     82          high\n",
      "2  sadeq     73           mid\n",
      "3  hamed     89           low\n",
      "pd.merge(df1,df2,on='name')----------------------------------------------------------------\n",
      "    name  grade_x qualification_x  grade_y qualification_y\n",
      "0    ali       80            high       56             low\n",
      "1  hamid       75             mid       82            high\n",
      "2  sadeq       63             low       73             mid\n",
      "3  hamed       45             low       89             low\n",
      "pd.merge(df1,df2, on='name',how='left')----------------------------------------------------------\n",
      "    name  grade_x qualification_x  grade_y qualification_y\n",
      "0    ali       80            high       56             low\n",
      "1  hamid       75             mid       82            high\n",
      "2  sadeq       63             low       73             mid\n",
      "3  hamed       45             low       89             low\n",
      "pd.merge(df1,df2, on='name',how='right')----------------------------------------------------------\n",
      "    name  grade_x qualification_x  grade_y qualification_y\n",
      "0    ali       80            high       56             low\n",
      "1  hamid       75             mid       82            high\n",
      "2  sadeq       63             low       73             mid\n",
      "3  hamed       45             low       89             low\n",
      "pd.merge(df1,df2, on='name',how='inner')----------------------------------------------------------\n",
      "    name  grade_x qualification_x  grade_y qualification_y\n",
      "0    ali       80            high       56             low\n",
      "1  hamid       75             mid       82            high\n",
      "2  sadeq       63             low       73             mid\n",
      "3  hamed       45             low       89             low\n",
      "pd.merge(df1,df2, on='name',how='outer')--set_index('name')-------------------------------------------------------\n",
      "       grade_x qualification_x  grade_y qualification_y\n",
      "name                                                   \n",
      "ali         80            high       56             low\n",
      "hamid       75             mid       82            high\n",
      "sadeq       63             low       73             mid\n",
      "hamed       45             low       89             low\n"
     ]
    }
   ],
   "source": [
    "import pandas as pd\n",
    "\n",
    "df1= pd.DataFrame({'name':['ali','hamid','sadeq','hamed'],\n",
    "                   'grade':[80,75,63,45],\n",
    "                   'qualification':['high','mid','low','low']})\n",
    "\n",
    "df2= pd.DataFrame({'name':['ali','hamid','sadeq','hamed'],\n",
    "                   'grade':[56,82,73,89],\n",
    "                   'qualification':['low','high','mid','low']})\n",
    "\n",
    "print(\"df1-------------------------------------------------------------------------\")\n",
    "print(df1)\n",
    "print(\"df2-------------------------------------------------------------------------\")\n",
    "print(df2)\n",
    "print(\"pd.merge(df1,df2,on='name')----------------------------------------------------------------\")\n",
    "print(pd.merge(df1,df2,on='name'))\n",
    "\n",
    "merged= pd.merge(df1,df2, on='name',how='left')\n",
    "print(\"pd.merge(df1,df2, on='name',how='left')----------------------------------------------------------\") \n",
    "print(merged)\n",
    "\n",
    "merged= pd.merge(df1,df2, on='name',how='right')\n",
    "print(\"pd.merge(df1,df2, on='name',how='right')----------------------------------------------------------\") \n",
    "print(merged)\n",
    "\n",
    "merged= pd.merge(df1,df2, on='name',how='inner')\n",
    "print(\"pd.merge(df1,df2, on='name',how='inner')----------------------------------------------------------\") \n",
    "print(merged)\n",
    "\n",
    "merged= pd.merge(df1,df2, on='name',how='outer')\n",
    "merged.set_index('name',inplace=True)\n",
    "print(\"pd.merge(df1,df2, on='name',how='outer')--set_index('name')-------------------------------------------------------\") \n",
    "print(merged)"
   ]
  },
  {
   "cell_type": "markdown",
   "id": "4ceaa051",
   "metadata": {},
   "source": [
    "### df.groupby() , _.groups , _.get_group()"
   ]
  },
  {
   "cell_type": "code",
   "execution_count": 17,
   "id": "b826128b",
   "metadata": {},
   "outputs": [
    {
     "name": "stdout",
     "output_type": "stream",
     "text": [
      "df-------------------------------------------------------------------------\n",
      "     Name        Date     City Degree  Test1  Test2  Test3\n",
      "0     Ali  03.01.2020   Tehran    MSC     83     72     56\n",
      "1     Ali  03.02.2020   Tehran    MSC     68     52     70\n",
      "2     Ali  03.03.2020   Tehran    MSC     45     71     63\n",
      "3   sadeq  03.01.2020   Tabriz     MA     72     89     58\n",
      "4   sadeq  03.02.2020   Tabriz     MA     54     47     69\n",
      "5    sara  03.01.2020     Arak    MSC     66     75     48\n",
      "6    sara  03.02.2020     Arak    MSC     90     63     75\n",
      "7    sara  03.03.2020     Arak    MSC     81     89     92\n",
      "8    sara  03.04.2020     Arak    MSC     76     72     59\n",
      "9    omid  03.01.2020  Mashhad    PHD     38     84     71\n",
      "10   omid  03.02.2020  Mashhad    PHD     65     63     86\n",
      "11   omid  03.03.2020  Mashhad    PHD     84     91     88\n",
      "df.groupby('Name').groups-------------------------------------------------------------------------\n",
      "{'Ali': [0, 1, 2], 'omid': [9, 10, 11], 'sadeq': [3, 4], 'sara': [5, 6, 7, 8]}\n",
      "df.groupby(myfunc).groups---------Test1>Test2----------------------------------------------------------------\n",
      "{False: [2, 3, 5, 7, 9, 11], True: [0, 1, 4, 6, 8, 10]}\n",
      "mygp['Test3'].agg(np.mean)-------------------------------------------------------------------------\n",
      "Name\n",
      "Ali      63.000000\n",
      "omid     81.666667\n",
      "sadeq    63.500000\n",
      "sara     68.500000\n",
      "Name: Test3, dtype: float64\n",
      "for Name, group in mygp:----print('Name')----print(group)----------------------------------------------------------\n",
      "Name\n",
      "  Name        Date    City Degree  Test1  Test2  Test3\n",
      "0  Ali  03.01.2020  Tehran    MSC     83     72     56\n",
      "1  Ali  03.02.2020  Tehran    MSC     68     52     70\n",
      "2  Ali  03.03.2020  Tehran    MSC     45     71     63\n",
      "Name\n",
      "    Name        Date     City Degree  Test1  Test2  Test3\n",
      "9   omid  03.01.2020  Mashhad    PHD     38     84     71\n",
      "10  omid  03.02.2020  Mashhad    PHD     65     63     86\n",
      "11  omid  03.03.2020  Mashhad    PHD     84     91     88\n",
      "Name\n",
      "    Name        Date    City Degree  Test1  Test2  Test3\n",
      "3  sadeq  03.01.2020  Tabriz     MA     72     89     58\n",
      "4  sadeq  03.02.2020  Tabriz     MA     54     47     69\n",
      "Name\n",
      "   Name        Date  City Degree  Test1  Test2  Test3\n",
      "5  sara  03.01.2020  Arak    MSC     66     75     48\n",
      "6  sara  03.02.2020  Arak    MSC     90     63     75\n",
      "7  sara  03.03.2020  Arak    MSC     81     89     92\n",
      "8  sara  03.04.2020  Arak    MSC     76     72     59\n",
      "mygp.get_group('Ali')-------------------------------------------------------------------------\n",
      "  Name        Date    City Degree  Test1  Test2  Test3\n",
      "0  Ali  03.01.2020  Tehran    MSC     83     72     56\n",
      "1  Ali  03.02.2020  Tehran    MSC     68     52     70\n",
      "2  Ali  03.03.2020  Tehran    MSC     45     71     63\n"
     ]
    }
   ],
   "source": [
    "import pandas as pd\n",
    "import numpy as np\n",
    "\n",
    "df= pd.read_csv('file.csv')\n",
    "print(\"df-------------------------------------------------------------------------\")\n",
    "print(df)\n",
    "\n",
    "mygp= df.groupby('Name')\n",
    "print(\"df.groupby('Name').groups-------------------------------------------------------------------------\")\n",
    "print(mygp.groups)\n",
    "\n",
    "def myfunc(self):\n",
    "    return df.loc[self].Test1 > df.loc[self].Test2\n",
    "print(\"df.groupby(myfunc).groups---------Test1>Test2----------------------------------------------------------------\")\n",
    "print(df.groupby(myfunc).groups)\n",
    "\n",
    "print(\"mygp['Test3'].agg(np.mean)-------------------------------------------------------------------------\")\n",
    "print(mygp['Test3'].agg(np.mean))\n",
    "print(\"for Name, group in mygp:----print('Name')----print(group)----------------------------------------------------------\")\n",
    "for Name, group in mygp:\n",
    "    print('Name')\n",
    "    print(group)\n",
    "print(\"mygp.get_group('Ali')-------------------------------------------------------------------------\")    \n",
    "print(mygp.get_group('Ali'))"
   ]
  },
  {
   "cell_type": "markdown",
   "id": "fd1fe466",
   "metadata": {},
   "source": [
    "### pd.concat()"
   ]
  },
  {
   "cell_type": "code",
   "execution_count": 18,
   "id": "ac90b1b3",
   "metadata": {},
   "outputs": [
    {
     "name": "stdout",
     "output_type": "stream",
     "text": [
      "    name  grade qualification\n",
      "0    ali     80          high\n",
      "1  hamid     75           mid\n",
      "2  sadeq     63           low\n",
      "0    ali     56           low\n",
      "1  hamid     82          high\n",
      "2  sadeq     73           mid\n"
     ]
    }
   ],
   "source": [
    "df1= pd.DataFrame({'name':['ali','hamid','sadeq'],\n",
    "                   'grade':[80,75,63],\n",
    "                   'qualification':['high','mid','low']})\n",
    "\n",
    "df2= pd.DataFrame({'name':['ali','hamid','sadeq'],\n",
    "                   'grade':[56,82,73],\n",
    "                   'qualification':['low','high','mid']})\n",
    "\n",
    "print(pd.concat([df1,df2]))"
   ]
  },
  {
   "cell_type": "markdown",
   "id": "34becffd",
   "metadata": {},
   "source": [
    "# Time Series"
   ]
  },
  {
   "cell_type": "markdown",
   "id": "8db59fa2",
   "metadata": {},
   "source": [
    "### pd.to_datetime()"
   ]
  },
  {
   "cell_type": "code",
   "execution_count": 19,
   "id": "b79fe4a3",
   "metadata": {},
   "outputs": [
    {
     "name": "stdout",
     "output_type": "stream",
     "text": [
      "2019-05-15 15:45:00\n",
      "<class 'pandas._libs.tslibs.timestamps.Timestamp'>\n",
      "DatetimeIndex(['2019-05-15', '2010-07-08', '1999-10-10'], dtype='datetime64[ns]', freq=None)\n",
      "2010-02-25 00:00:00\n"
     ]
    }
   ],
   "source": [
    "import pandas as pd\n",
    "\n",
    "print(pd.to_datetime('2019-05-15 3:45pm'))\n",
    "print(type(pd.to_datetime('2019-05-15 3:45pm')))\n",
    "\n",
    "print(pd.to_datetime(['2019-05-15', '7/8/2010', 'oct 10, 1999']))\n",
    "print(pd.to_datetime('2/25/10', format= '%m/%d/%y'))"
   ]
  },
  {
   "cell_type": "code",
   "execution_count": 20,
   "id": "ab2153f9",
   "metadata": {},
   "outputs": [
    {
     "name": "stdout",
     "output_type": "stream",
     "text": [
      "shape=  (4383, 5)\n",
      "head= ------------------------------\n",
      "          Date  Consumption  Wind  Solar  Wind+Solar\n",
      "0  2006-01-01     1069.184   NaN    NaN         NaN\n",
      "1  2006-01-02     1380.521   NaN    NaN         NaN\n",
      "2  2006-01-03     1442.533   NaN    NaN         NaN\n",
      "3  2006-01-04     1457.217   NaN    NaN         NaN\n",
      "4  2006-01-05     1477.131   NaN    NaN         NaN\n",
      "dtypes= ----------------------------\n",
      " Date            object\n",
      "Consumption    float64\n",
      "Wind           float64\n",
      "Solar          float64\n",
      "Wind+Solar     float64\n",
      "dtype: object\n",
      "new head= ------------------------------\n",
      "             Consumption  Wind  Solar  Wind+Solar\n",
      "Date                                            \n",
      "2006-01-01     1069.184   NaN    NaN         NaN\n",
      "2006-01-02     1380.521   NaN    NaN         NaN\n",
      "2006-01-03     1442.533   NaN    NaN         NaN\n",
      "2006-01-04     1457.217   NaN    NaN         NaN\n",
      "2006-01-05     1477.131   NaN    NaN         NaN\n",
      "new index= ------------------------------\n",
      " Index(['2006-01-01', '2006-01-02', '2006-01-03', '2006-01-04', '2006-01-05',\n",
      "       '2006-01-06', '2006-01-07', '2006-01-08', '2006-01-09', '2006-01-10',\n",
      "       ...\n",
      "       '2017-12-22', '2017-12-23', '2017-12-24', '2017-12-25', '2017-12-26',\n",
      "       '2017-12-27', '2017-12-28', '2017-12-29', '2017-12-30', '2017-12-31'],\n",
      "      dtype='object', name='Date', length=4383)\n",
      "loc['2017-08-10']= ------------------------------\n",
      " Consumption    1351.491\n",
      "Wind            100.274\n",
      "Solar            71.160\n",
      "Wind+Solar      171.434\n",
      "Name: 2017-08-10, dtype: float64\n",
      "loc['2017-08-10' : '2017-08-20']= ------------------------------\n",
      "             Consumption     Wind    Solar  Wind+Solar\n",
      "Date                                                 \n",
      "2017-08-10     1351.491  100.274   71.160     171.434\n",
      "2017-08-11     1329.039  108.577   42.198     150.775\n",
      "2017-08-12     1121.458  305.908   80.906     386.814\n",
      "2017-08-13     1025.070  101.266  141.157     242.423\n",
      "2017-08-14     1305.341  136.416  201.027     337.443\n",
      "2017-08-15     1333.398  182.064  172.205     354.269\n",
      "2017-08-16     1364.029   68.592  150.677     219.269\n",
      "2017-08-17     1377.745  207.760  143.193     350.953\n",
      "2017-08-18     1362.480  190.792  125.639     316.431\n",
      "2017-08-19     1130.982  362.033  140.368     502.401\n",
      "2017-08-20     1042.809  314.058  156.868     470.926\n"
     ]
    }
   ],
   "source": [
    "import pandas as pd\n",
    "opsd_daily= pd.read_csv('opsd germany daily.csv')\n",
    "print(\"shape= \", opsd_daily.shape)\n",
    "print(\"head= ------------------------------\\n\", opsd_daily.head())\n",
    "\n",
    "print(\"dtypes= ----------------------------\\n\", opsd_daily.dtypes)\n",
    "\n",
    "opsd_daily= opsd_daily.set_index(\"Date\")\n",
    "#opsd_daily= opsd_daily.set_index(pd.DatetimeIndex(opsd_daily['Date']))\n",
    "print(\"new head= ------------------------------\\n\", opsd_daily.head())\n",
    "print(\"new index= ------------------------------\\n\", opsd_daily.index)\n",
    "print(\"loc['2017-08-10']= ------------------------------\\n\", opsd_daily.loc['2017-08-10'])\n",
    "print(\"loc['2017-08-10' : '2017-08-20']= ------------------------------\\n\", opsd_daily.loc['2017-08-10' : '2017-08-20'])\n",
    "#print(\"loc['2017-08']= ------------------------------\\n\", opsd_daily.loc['2017-08'])"
   ]
  },
  {
   "cell_type": "markdown",
   "id": "296dd066",
   "metadata": {},
   "source": [
    "## pd.date_range(start, periods= , freq= )"
   ]
  },
  {
   "cell_type": "code",
   "execution_count": 28,
   "id": "07606639",
   "metadata": {},
   "outputs": [
    {
     "name": "stdout",
     "output_type": "stream",
     "text": [
      "DatetimeIndex(['2023-01-01', '2023-01-02', '2023-01-03', '2023-01-04',\n",
      "               '2023-01-05', '2023-01-06'],\n",
      "              dtype='datetime64[ns]', freq='D')\n"
     ]
    }
   ],
   "source": [
    "import pandas as pd\n",
    "dates= pd.date_range(\"20230101\", periods=6)\n",
    "print(dates)"
   ]
  },
  {
   "cell_type": "code",
   "execution_count": 33,
   "id": "1c6979e4",
   "metadata": {},
   "outputs": [
    {
     "data": {
      "text/plain": [
       "2012-01-01    22765\n",
       "Freq: 5T, dtype: int32"
      ]
     },
     "execution_count": 33,
     "metadata": {},
     "output_type": "execute_result"
    }
   ],
   "source": [
    "rng = pd.date_range(\"1/1/2012\", periods=100, freq=\"S\")\n",
    "ts = pd.Series(np.random.randint(0, 500, len(rng)), index=rng)\n",
    "ts.resample(\"5Min\").sum()"
   ]
  },
  {
   "cell_type": "code",
   "execution_count": 34,
   "id": "050a1182",
   "metadata": {},
   "outputs": [
    {
     "data": {
      "text/plain": [
       "2012-03-06    0.203705\n",
       "2012-03-07    0.660249\n",
       "2012-03-08   -0.214063\n",
       "2012-03-09    1.081944\n",
       "2012-03-10   -1.022959\n",
       "Freq: D, dtype: float64"
      ]
     },
     "execution_count": 34,
     "metadata": {},
     "output_type": "execute_result"
    }
   ],
   "source": [
    "rng = pd.date_range(\"3/6/2012 00:00\", periods=5, freq=\"D\")\n",
    "ts = pd.Series(np.random.randn(len(rng)), rng)\n",
    "ts"
   ]
  },
  {
   "cell_type": "code",
   "execution_count": 35,
   "id": "a8ab534c",
   "metadata": {
    "scrolled": true
   },
   "outputs": [
    {
     "data": {
      "text/plain": [
       "2012-03-06 00:00:00+00:00    0.203705\n",
       "2012-03-07 00:00:00+00:00    0.660249\n",
       "2012-03-08 00:00:00+00:00   -0.214063\n",
       "2012-03-09 00:00:00+00:00    1.081944\n",
       "2012-03-10 00:00:00+00:00   -1.022959\n",
       "Freq: D, dtype: float64"
      ]
     },
     "execution_count": 35,
     "metadata": {},
     "output_type": "execute_result"
    }
   ],
   "source": [
    "ts_utc = ts.tz_localize(\"UTC\")  ##localizes a time series to a time zoneb\n",
    "ts_utc"
   ]
  },
  {
   "cell_type": "code",
   "execution_count": 36,
   "id": "7eac30b5",
   "metadata": {},
   "outputs": [
    {
     "data": {
      "text/plain": [
       "2012-03-05 19:00:00-05:00    0.203705\n",
       "2012-03-06 19:00:00-05:00    0.660249\n",
       "2012-03-07 19:00:00-05:00   -0.214063\n",
       "2012-03-08 19:00:00-05:00    1.081944\n",
       "2012-03-09 19:00:00-05:00   -1.022959\n",
       "Freq: D, dtype: float64"
      ]
     },
     "execution_count": 36,
     "metadata": {},
     "output_type": "execute_result"
    }
   ],
   "source": [
    "ts_utc.tz_convert(\"US/Eastern\")"
   ]
  },
  {
   "cell_type": "code",
   "execution_count": 37,
   "id": "f62c536d",
   "metadata": {},
   "outputs": [
    {
     "data": {
      "text/plain": [
       "2012-01-31    0.015471\n",
       "2012-02-29   -0.115794\n",
       "2012-03-31    0.304337\n",
       "2012-04-30    0.016103\n",
       "2012-05-31   -0.068936\n",
       "Freq: M, dtype: float64"
      ]
     },
     "execution_count": 37,
     "metadata": {},
     "output_type": "execute_result"
    }
   ],
   "source": [
    "###Converting between time span representations\n",
    "rng = pd.date_range(\"1/1/2012\", periods=5, freq=\"M\")\n",
    "ts = pd.Series(np.random.randn(len(rng)), index=rng)\n",
    "ts"
   ]
  },
  {
   "cell_type": "code",
   "execution_count": 38,
   "id": "c6a906a2",
   "metadata": {},
   "outputs": [
    {
     "data": {
      "text/plain": [
       "2012-01    0.015471\n",
       "2012-02   -0.115794\n",
       "2012-03    0.304337\n",
       "2012-04    0.016103\n",
       "2012-05   -0.068936\n",
       "Freq: M, dtype: float64"
      ]
     },
     "execution_count": 38,
     "metadata": {},
     "output_type": "execute_result"
    }
   ],
   "source": [
    "ps = ts.to_period()\n",
    "ps"
   ]
  },
  {
   "cell_type": "code",
   "execution_count": 39,
   "id": "e330d5b4",
   "metadata": {},
   "outputs": [
    {
     "data": {
      "text/plain": [
       "2012-01-01    0.015471\n",
       "2012-02-01   -0.115794\n",
       "2012-03-01    0.304337\n",
       "2012-04-01    0.016103\n",
       "2012-05-01   -0.068936\n",
       "Freq: MS, dtype: float64"
      ]
     },
     "execution_count": 39,
     "metadata": {},
     "output_type": "execute_result"
    }
   ],
   "source": [
    "ps.to_timestamp()"
   ]
  },
  {
   "cell_type": "code",
   "execution_count": 40,
   "id": "b6ff3c0a",
   "metadata": {},
   "outputs": [
    {
     "data": {
      "text/plain": [
       "1990-03-01 09:00    1.514690\n",
       "1990-06-01 09:00   -1.273118\n",
       "1990-09-01 09:00    1.375935\n",
       "1990-12-01 09:00   -0.023017\n",
       "1991-03-01 09:00    1.036274\n",
       "Freq: H, dtype: float64"
      ]
     },
     "execution_count": 40,
     "metadata": {},
     "output_type": "execute_result"
    }
   ],
   "source": [
    "prng = pd.period_range(\"1990Q1\", \"2000Q4\", freq=\"Q-NOV\")\n",
    "ts = pd.Series(np.random.randn(len(prng)), prng)\n",
    "ts.index = (prng.asfreq(\"M\", \"e\") + 1).asfreq(\"H\", \"s\") + 9\n",
    "ts.head()"
   ]
  },
  {
   "cell_type": "markdown",
   "id": "0071e347",
   "metadata": {},
   "source": [
    "### _.mean() , _.std() , _.corr() , _.mode() , _.var() , _.cov() , _.median() , _.min() , _.max()"
   ]
  },
  {
   "cell_type": "code",
   "execution_count": 21,
   "id": "7adea77f",
   "metadata": {},
   "outputs": [
    {
     "name": "stdout",
     "output_type": "stream",
     "text": [
      "df= ---------------------------------------\n",
      "             Date  Consumption     Wind   Solar  Wind+Solar\n",
      "0     2006-01-01   1069.18400      NaN     NaN         NaN\n",
      "1     2006-01-02   1380.52100      NaN     NaN         NaN\n",
      "2     2006-01-03   1442.53300      NaN     NaN         NaN\n",
      "3     2006-01-04   1457.21700      NaN     NaN         NaN\n",
      "4     2006-01-05   1477.13100      NaN     NaN         NaN\n",
      "...          ...          ...      ...     ...         ...\n",
      "4378  2017-12-27   1263.94091  394.507  16.530     411.037\n",
      "4379  2017-12-28   1299.86398  506.424  14.162     520.586\n",
      "4380  2017-12-29   1295.08753  584.277  29.854     614.131\n",
      "4381  2017-12-30   1215.44897  721.247   7.467     728.714\n",
      "4382  2017-12-31   1107.11488  721.176  19.980     741.156\n",
      "\n",
      "[4383 rows x 5 columns]\n",
      "<class 'pandas.core.frame.DataFrame'>\n",
      "RangeIndex: 4383 entries, 0 to 4382\n",
      "Data columns (total 5 columns):\n",
      " #   Column       Non-Null Count  Dtype  \n",
      "---  ------       --------------  -----  \n",
      " 0   Date         4383 non-null   object \n",
      " 1   Consumption  4383 non-null   float64\n",
      " 2   Wind         2920 non-null   float64\n",
      " 3   Solar        2188 non-null   float64\n",
      " 4   Wind+Solar   2187 non-null   float64\n",
      "dtypes: float64(4), object(1)\n",
      "memory usage: 171.3+ KB\n",
      "df.info()= ---------------------------------------\n",
      " None\n",
      "df.head()= ---------------------------------------\n",
      "          Date  Consumption  Wind  Solar  Wind+Solar\n",
      "0  2006-01-01     1069.184   NaN    NaN         NaN\n",
      "1  2006-01-02     1380.521   NaN    NaN         NaN\n",
      "2  2006-01-03     1442.533   NaN    NaN         NaN\n",
      "3  2006-01-04     1457.217   NaN    NaN         NaN\n",
      "4  2006-01-05     1477.131   NaN    NaN         NaN\n",
      "df.describe()= ---------------------------------------\n",
      "        Consumption         Wind        Solar   Wind+Solar\n",
      "count  4383.000000  2920.000000  2188.000000  2187.000000\n",
      "mean   1338.675836   164.814173    89.258695   272.663481\n",
      "std     165.775710   143.692732    58.550099   146.319884\n",
      "min     842.395000     5.757000     1.968000    21.478000\n",
      "25%    1217.859000    62.353250    35.179250   172.185500\n",
      "50%    1367.123000   119.098000    86.407000   240.991000\n",
      "75%    1457.761000   217.900250   135.071500   338.988000\n",
      "max    1709.568000   826.278000   241.580000   851.556000\n",
      "----------------------------------------------------------------------------------------\n",
      "Average Consumption:  1338.6758355897814\n",
      "Standard Deviation in Consumption:  165.77571023479123\n",
      "Correlation between Solar and Wind:  -0.3088318295977342\n",
      "Minimum Power Quantity:  21.478\n",
      "Maximum Power Quantity:  851.556\n"
     ]
    }
   ],
   "source": [
    "import pandas as pd\n",
    "\n",
    "df= pd.read_csv('opsd germany daily.csv')\n",
    "print(\"df= ---------------------------------------\\n\", df)\n",
    "print(\"df.info()= ---------------------------------------\\n\", df.info())\n",
    "print(\"df.head()= ---------------------------------------\\n\", df.head())\n",
    "print(\"df.describe()= ---------------------------------------\\n\", df.describe())\n",
    "print(\"----------------------------------------------------------------------------------------\")\n",
    "print(\"Average Consumption: \", df['Consumption'].mean())\n",
    "print(\"Standard Deviation in Consumption: \", df['Consumption'].std())\n",
    "print(\"Correlation between Solar and Wind: \", df['Solar'].corr(df['Wind']))\n",
    "print(\"Minimum Power Quantity: \", df['Wind+Solar'].min())\n",
    "print(\"Maximum Power Quantity: \", df['Wind+Solar'].max())\n",
    " \n",
    "# mode()   var()    cov()   median()   ..."
   ]
  },
  {
   "cell_type": "markdown",
   "id": "2fb388b3",
   "metadata": {},
   "source": [
    "## df.T"
   ]
  },
  {
   "cell_type": "code",
   "execution_count": 30,
   "id": "18b9cb31",
   "metadata": {},
   "outputs": [
    {
     "name": "stdout",
     "output_type": "stream",
     "text": [
      "    name  grade qualification\n",
      "0    ali     80          high\n",
      "1  hamid     75           mid\n",
      "2  sadeq     63           low\n",
      "3  hamed     45           low\n"
     ]
    },
    {
     "data": {
      "text/html": [
       "<div>\n",
       "<style scoped>\n",
       "    .dataframe tbody tr th:only-of-type {\n",
       "        vertical-align: middle;\n",
       "    }\n",
       "\n",
       "    .dataframe tbody tr th {\n",
       "        vertical-align: top;\n",
       "    }\n",
       "\n",
       "    .dataframe thead th {\n",
       "        text-align: right;\n",
       "    }\n",
       "</style>\n",
       "<table border=\"1\" class=\"dataframe\">\n",
       "  <thead>\n",
       "    <tr style=\"text-align: right;\">\n",
       "      <th></th>\n",
       "      <th>0</th>\n",
       "      <th>1</th>\n",
       "      <th>2</th>\n",
       "      <th>3</th>\n",
       "    </tr>\n",
       "  </thead>\n",
       "  <tbody>\n",
       "    <tr>\n",
       "      <th>name</th>\n",
       "      <td>ali</td>\n",
       "      <td>hamid</td>\n",
       "      <td>sadeq</td>\n",
       "      <td>hamed</td>\n",
       "    </tr>\n",
       "    <tr>\n",
       "      <th>grade</th>\n",
       "      <td>80</td>\n",
       "      <td>75</td>\n",
       "      <td>63</td>\n",
       "      <td>45</td>\n",
       "    </tr>\n",
       "    <tr>\n",
       "      <th>qualification</th>\n",
       "      <td>high</td>\n",
       "      <td>mid</td>\n",
       "      <td>low</td>\n",
       "      <td>low</td>\n",
       "    </tr>\n",
       "  </tbody>\n",
       "</table>\n",
       "</div>"
      ],
      "text/plain": [
       "                  0      1      2      3\n",
       "name            ali  hamid  sadeq  hamed\n",
       "grade            80     75     63     45\n",
       "qualification  high    mid    low    low"
      ]
     },
     "execution_count": 30,
     "metadata": {},
     "output_type": "execute_result"
    }
   ],
   "source": [
    "df= pd.DataFrame({'name':['ali','hamid','sadeq','hamed'],\n",
    "                   'grade':[80,75,63,45],\n",
    "                   'qualification':['high','mid','low','low']})\n",
    "print(df)\n",
    "df.T"
   ]
  },
  {
   "cell_type": "markdown",
   "id": "bd19c67a",
   "metadata": {},
   "source": [
    "## pd.pivot_table(df, values=, index=[], columns=[])"
   ]
  },
  {
   "cell_type": "code",
   "execution_count": 31,
   "id": "7bbac8cd",
   "metadata": {},
   "outputs": [
    {
     "name": "stdout",
     "output_type": "stream",
     "text": [
      "        A  B    C         D         E\n",
      "0     one  A  foo -0.000925  0.009082\n",
      "1     one  B  foo  1.713518  1.366711\n",
      "2     two  C  foo -1.122016  1.413257\n",
      "3   three  A  bar  0.563655  0.021229\n",
      "4     one  B  bar  0.184873  0.637647\n",
      "5     one  C  bar  1.244288 -1.205018\n",
      "6     two  A  foo  0.482910  0.452937\n",
      "7   three  B  foo  0.083657  1.145468\n",
      "8     one  C  foo  0.197359 -0.776383\n",
      "9     one  A  bar  2.107211 -1.187617\n",
      "10    two  B  bar  0.442760 -1.086305\n",
      "11  three  C  bar -0.378582 -1.405068\n"
     ]
    }
   ],
   "source": [
    "import pandas as pd\n",
    "df = pd.DataFrame({\n",
    "        \"A\": [\"one\", \"one\", \"two\", \"three\"] * 3,\n",
    "        \"B\": [\"A\", \"B\", \"C\"] * 4,\n",
    "        \"C\": [\"foo\", \"foo\", \"foo\", \"bar\", \"bar\", \"bar\"] * 2,\n",
    "        \"D\": np.random.randn(12),\n",
    "        \"E\": np.random.randn(12),\n",
    "})\n",
    "print(df)"
   ]
  },
  {
   "cell_type": "code",
   "execution_count": 32,
   "id": "5e8cd6b1",
   "metadata": {},
   "outputs": [
    {
     "data": {
      "text/html": [
       "<div>\n",
       "<style scoped>\n",
       "    .dataframe tbody tr th:only-of-type {\n",
       "        vertical-align: middle;\n",
       "    }\n",
       "\n",
       "    .dataframe tbody tr th {\n",
       "        vertical-align: top;\n",
       "    }\n",
       "\n",
       "    .dataframe thead th {\n",
       "        text-align: right;\n",
       "    }\n",
       "</style>\n",
       "<table border=\"1\" class=\"dataframe\">\n",
       "  <thead>\n",
       "    <tr style=\"text-align: right;\">\n",
       "      <th></th>\n",
       "      <th>C</th>\n",
       "      <th>bar</th>\n",
       "      <th>foo</th>\n",
       "    </tr>\n",
       "    <tr>\n",
       "      <th>A</th>\n",
       "      <th>B</th>\n",
       "      <th></th>\n",
       "      <th></th>\n",
       "    </tr>\n",
       "  </thead>\n",
       "  <tbody>\n",
       "    <tr>\n",
       "      <th rowspan=\"3\" valign=\"top\">one</th>\n",
       "      <th>A</th>\n",
       "      <td>2.107211</td>\n",
       "      <td>-0.000925</td>\n",
       "    </tr>\n",
       "    <tr>\n",
       "      <th>B</th>\n",
       "      <td>0.184873</td>\n",
       "      <td>1.713518</td>\n",
       "    </tr>\n",
       "    <tr>\n",
       "      <th>C</th>\n",
       "      <td>1.244288</td>\n",
       "      <td>0.197359</td>\n",
       "    </tr>\n",
       "    <tr>\n",
       "      <th rowspan=\"3\" valign=\"top\">three</th>\n",
       "      <th>A</th>\n",
       "      <td>0.563655</td>\n",
       "      <td>NaN</td>\n",
       "    </tr>\n",
       "    <tr>\n",
       "      <th>B</th>\n",
       "      <td>NaN</td>\n",
       "      <td>0.083657</td>\n",
       "    </tr>\n",
       "    <tr>\n",
       "      <th>C</th>\n",
       "      <td>-0.378582</td>\n",
       "      <td>NaN</td>\n",
       "    </tr>\n",
       "    <tr>\n",
       "      <th rowspan=\"3\" valign=\"top\">two</th>\n",
       "      <th>A</th>\n",
       "      <td>NaN</td>\n",
       "      <td>0.482910</td>\n",
       "    </tr>\n",
       "    <tr>\n",
       "      <th>B</th>\n",
       "      <td>0.442760</td>\n",
       "      <td>NaN</td>\n",
       "    </tr>\n",
       "    <tr>\n",
       "      <th>C</th>\n",
       "      <td>NaN</td>\n",
       "      <td>-1.122016</td>\n",
       "    </tr>\n",
       "  </tbody>\n",
       "</table>\n",
       "</div>"
      ],
      "text/plain": [
       "C             bar       foo\n",
       "A     B                    \n",
       "one   A  2.107211 -0.000925\n",
       "      B  0.184873  1.713518\n",
       "      C  1.244288  0.197359\n",
       "three A  0.563655       NaN\n",
       "      B       NaN  0.083657\n",
       "      C -0.378582       NaN\n",
       "two   A       NaN  0.482910\n",
       "      B  0.442760       NaN\n",
       "      C       NaN -1.122016"
      ]
     },
     "execution_count": 32,
     "metadata": {},
     "output_type": "execute_result"
    }
   ],
   "source": [
    "pd.pivot_table(df, values=\"D\", index=[\"A\", \"B\"], columns=[\"C\"])"
   ]
  }
 ],
 "metadata": {
  "kernelspec": {
   "display_name": "Python 3 (ipykernel)",
   "language": "python",
   "name": "python3"
  },
  "language_info": {
   "codemirror_mode": {
    "name": "ipython",
    "version": 3
   },
   "file_extension": ".py",
   "mimetype": "text/x-python",
   "name": "python",
   "nbconvert_exporter": "python",
   "pygments_lexer": "ipython3",
   "version": "3.9.7"
  }
 },
 "nbformat": 4,
 "nbformat_minor": 5
}
